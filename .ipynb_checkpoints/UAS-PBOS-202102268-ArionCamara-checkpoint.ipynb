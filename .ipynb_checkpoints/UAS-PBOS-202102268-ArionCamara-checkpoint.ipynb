{
 "cells": [
  {
   "cell_type": "code",
   "execution_count": 34,
   "id": "059cebea",
   "metadata": {},
   "outputs": [
    {
     "name": "stdout",
     "output_type": "stream",
     "text": [
      "Program Menghitung Keliling dan Luas Persegi Panjang\n",
      "Panjang Persegi Panjang :50\n",
      "Lebar Persegi Panjang :50\n",
      "Keliling Persegi Panjang adalah 200\n",
      "Luas Persegi Panjang adalah 2500\n"
     ]
    }
   ],
   "source": [
    "print(\"Program Menghitung Keliling dan Luas Persegi Panjang\")\n",
    "panjang = int(input(\"Panjang Persegi Panjang : \"))\n",
    "lebar = int(input(\"Lebar Persegi Panjang : \"))\n",
    "\n",
    "def keliling():\n",
    "    print(\"Keliling Persegi Panjang adalah\", 2 * (panjang + lebar))\n",
    "keliling()\n",
    "\n",
    "def luas():\n",
    "    print(\"Luas Persegi Panjang adalah\", panjang * lebar)\n",
    "luas()"
   ]
  },
  {
   "cell_type": "code",
   "execution_count": 23,
   "id": "70a30a96",
   "metadata": {},
   "outputs": [
    {
     "name": "stdout",
     "output_type": "stream",
     "text": [
      "Program Identitas Diri\n",
      "Arion Camara\n",
      "202102268\n",
      "Parit Pangeran\n",
      "Nama Mahasiswa adalah Arion Camara dengan NIM: 202102268 dan tempat tinggal di Parit Pangeran\n"
     ]
    }
   ],
   "source": [
    "print(\"Program Identitas Diri\")\n",
    "\n",
    "class Mahasiswa:\n",
    "    def __init__(self,nama,nim,alamat):\n",
    "        self.nama = nama\n",
    "        self.nim = nim\n",
    "        self.alamat = alamat\n",
    "    \n",
    "    def __str__(self):\n",
    "        return \"Nama Mahasiswa adalah \" + self.nama + \" dengan NIM: \" + self.nim + \" dan tempat tinggal di \" + self.alamat\n",
    "        \n",
    "\n",
    "x = Mahasiswa(input(),input(),input())\n",
    "\n",
    "print(x)"
   ]
  },
  {
   "cell_type": "code",
   "execution_count": 35,
   "id": "7768b027",
   "metadata": {},
   "outputs": [
    {
     "name": "stdout",
     "output_type": "stream",
     "text": [
      "Program Kalkulator dengan OOP\n",
      "Masukkan Angka yang ingin dihitung, dan pilih di antara 'penjumlahan, pengurangan, perkalian atau pembagian'\n",
      "Angka Pertama 50\n",
      "Angka Kedua 59\n",
      "Dengan Penjumlahan, maka hasilnya 109\n",
      "Dengan Pengurangan maka hasilnya -9\n",
      "Dengan Perkalian, maka hasilnya 2950\n",
      "Dengan Pembagian, maka hasilnya 0.847457627118644\n"
     ]
    }
   ],
   "source": [
    "print(\"Program Kalkulator dengan OOP\")\n",
    "class Kalkulator():\n",
    "    def penjumlahan(self,angka1, angka2):\n",
    "        return angka1 + angka2\n",
    "    \n",
    "    def pengurangan(self,angka1, angka2):\n",
    "        return angka1 - angka2\n",
    "    \n",
    "    def perkalian(self,angka1, angka2):\n",
    "        return angka1 * angka2\n",
    "    \n",
    "    def pembagian(self,angka1, angka2):\n",
    "        return angka1 / angka2\n",
    "\n",
    "print(\"Masukkan Angka yang ingin dihitung, dan pilih di antara 'penjumlahan, pengurangan, perkalian atau pembagian'\")\n",
    "angka1 = int(input(\"Angka Pertama \"))\n",
    "angka2 = int(input(\"Angka Kedua \"))\n",
    "\n",
    "hasil = Kalkulator()\n",
    "print(\"Dengan Penjumlahan, maka hasilnya\", hasil.penjumlahan(angka1, angka2))\n",
    "print(\"Dengan Pengurangan maka hasilnya\", hasil.pengurangan(angka1, angka2))\n",
    "print(\"Dengan Perkalian, maka hasilnya\", hasil.perkalian(angka1, angka2))\n",
    "print(\"Dengan Pembagian, maka hasilnya\", hasil.pembagian(angka1, angka2))"
   ]
  },
  {
   "cell_type": "code",
   "execution_count": null,
   "id": "f5b1216d",
   "metadata": {},
   "outputs": [],
   "source": []
  }
 ],
 "metadata": {
  "kernelspec": {
   "display_name": "Python 3",
   "language": "python",
   "name": "python3"
  },
  "language_info": {
   "codemirror_mode": {
    "name": "ipython",
    "version": 3
   },
   "file_extension": ".py",
   "mimetype": "text/x-python",
   "name": "python",
   "nbconvert_exporter": "python",
   "pygments_lexer": "ipython3",
   "version": "3.8.8"
  }
 },
 "nbformat": 4,
 "nbformat_minor": 5
}
