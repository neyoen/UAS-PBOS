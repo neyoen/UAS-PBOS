{
 "cells": [
  {
   "cell_type": "code",
   "execution_count": 34,
   "id": "059cebea",
   "metadata": {},
   "outputs": [
    {
     "name": "stdout",
     "output_type": "stream",
     "text": [
      "Program Menghitung Keliling dan Luas Persegi Panjang\n",
      "Panjang Persegi Panjang :50\n",
      "Lebar Persegi Panjang :50\n",
      "Keliling Persegi Panjang adalah 200\n",
      "Luas Persegi Panjang adalah 2500\n"
     ]
    }
   ],
   "source": [
    "print(\"Program Menghitung Keliling dan Luas Persegi Panjang\")\n",
    "panjang = int(input(\"Panjang Persegi Panjang : \"))\n",
    "lebar = int(input(\"Lebar Persegi Panjang : \"))\n",
    "\n",
    "def keliling():\n",
    "    print(\"Keliling Persegi Panjang adalah\", 2 * (panjang + lebar))\n",
    "keliling()\n",
    "\n",
    "def luas():\n",
    "    print(\"Luas Persegi Panjang adalah\", panjang * lebar)\n",
    "luas()"
   ]
  },
  {
   "cell_type": "code",
   "execution_count": 48,
   "id": "70a30a96",
   "metadata": {},
   "outputs": [
    {
     "name": "stdout",
     "output_type": "stream",
     "text": [
      "Program Identitas Diri\n",
      "Arion\n",
      "<bound method Kernel.raw_input of <ipykernel.ipkernel.IPythonKernel object at 0x0000021CAB75A910>> Arion\n"
     ]
    }
   ],
   "source": [
    "print(\"Program Identitas Diri\")\n",
    "\n",
    "class Mahasiswa:\n",
    "    def __init__(nama,nama1,nama2):\n",
    "        nama.namadepan = nama1\n",
    "        nama.namabelakang = nama2\n",
    "    \n",
    "    def nama(self):\n",
    "        return self.namadepan + \" \" + self.namabelakang\n",
    "    \n",
    "    def _itni_(nomormahasiswa, nim):\n",
    "        nim.nomorindukmahasiswa = nomormahasiswa\n",
    "        \n",
    "    def NIM(self):\n",
    "        return \"NIM dari \" + nama + \" adalah \" + self.nomormahasiswa\n",
    "    \n",
    "class Alamat:\n",
    "    def _init_(namajalan, jalan,gangkomplek,nomorrumah):\n",
    "        jalan.jl = namajalan\n",
    "        jalan.gang = gangkomplek\n",
    "        jalan.nomor = nomorrumah\n",
    "    \n",
    "    def tempattinggal(self):\n",
    "        return \"Jalan \" + self.namajalan + \" Gang \" + self.gangkomplek + \" Block \" + self.nomorrumah\n",
    "\n",
    "x = Mahasiswa(str(input),str(input()))\n",
    "\n",
    "print(x.nama())"
   ]
  },
  {
   "cell_type": "markdown",
   "id": "d798e6e7",
   "metadata": {},
   "source": []
  },
  {
   "cell_type": "code",
   "execution_count": null,
   "id": "38bf69d2",
   "metadata": {},
   "outputs": [],
   "source": []
  }
 ],
 "metadata": {
  "kernelspec": {
   "display_name": "Python 3",
   "language": "python",
   "name": "python3"
  },
  "language_info": {
   "codemirror_mode": {
    "name": "ipython",
    "version": 3
   },
   "file_extension": ".py",
   "mimetype": "text/x-python",
   "name": "python",
   "nbconvert_exporter": "python",
   "pygments_lexer": "ipython3",
   "version": "3.8.8"
  }
 },
 "nbformat": 4,
 "nbformat_minor": 5
}
